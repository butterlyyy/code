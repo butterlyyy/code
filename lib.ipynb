{
 "cells": [
  {
   "cell_type": "code",
   "execution_count": null,
   "id": "bbe2af58",
   "metadata": {},
   "outputs": [],
   "source": [
    "Libraries used from nlp lec 5-9Generic:import pandas as pdimport numpy as npimport matplotlib.pyplot as plt\n",
    "Clustering:# Converting text to vectorsfrom sklearn.feature_extraction.text import TfidfVectorizer## Clustering using K meansfrom sklearn.cluster import KMeans## Dimensionality reduction using tSNEfrom sklean.manifold import TSNE\n",
    "Sentiment Analysis:from textblob import TextBlob\n",
    "Text Classification:from sklearn.feature_extraction.text import TfidfVectorizerfrom sklearn.naive_bayes import MultinomialNBfrom sklearn.pipeline import make_pipelinefrom sklearn.metrics import classification_report,confusion_matrix\n",
    "Topic Modelling:import pyLDAvisimport pyLDAvis.gensim_modelsimport spacyimport gensimfrom gensim.corpora import Dictionary\n",
    "Vectorization of tokens and similarity of documents:import gensim import spacyfrom gensim.corpora import Dictionary# BOW matrixfrom gensim.matutils import corpus2densefrom gensim.models import TfidfModelfrom gensim.similarities import MatrixSimilarity\n",
    "Rule-based matching:import spacyfrom spacy.matcher import Matcher\n",
    "https://github.com/stringsea/crispy-engine"
   ]
  }
 ],
 "metadata": {
  "kernelspec": {
   "display_name": "Python 3 (ipykernel)",
   "language": "python",
   "name": "python3"
  },
  "language_info": {
   "codemirror_mode": {
    "name": "ipython",
    "version": 3
   },
   "file_extension": ".py",
   "mimetype": "text/x-python",
   "name": "python",
   "nbconvert_exporter": "python",
   "pygments_lexer": "ipython3",
   "version": "3.9.12"
  }
 },
 "nbformat": 4,
 "nbformat_minor": 5
}
